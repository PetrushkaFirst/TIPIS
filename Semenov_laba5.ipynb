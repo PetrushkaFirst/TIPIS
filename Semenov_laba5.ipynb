{
 "cells": [
  {
   "cell_type": "markdown",
   "id": "8ccd0efb-ea49-41df-a06a-417163aa9b06",
   "metadata": {},
   "source": [
    "### 0. Загрузка данных и подготовка датасета"
   ]
  },
  {
   "cell_type": "code",
   "execution_count": 11,
   "id": "edee9922-d1b5-4690-8539-87df7c63f1c4",
   "metadata": {},
   "outputs": [],
   "source": [
    "import pandas as pd\n",
    "import xgboost as xgb\n",
    "from sklearn.model_selection import train_test_split\n",
    "from sklearn.feature_extraction import DictVectorizer\n",
    "from sklearn.ensemble import RandomForestRegressor  \n",
    "from sklearn.metrics import mean_squared_error\n",
    "from sklearn.tree import DecisionTreeRegressor\n",
    "from sklearn.metrics import mean_squared_error\n",
    "import numpy as np\n",
    "\n",
    "# Загрузка данных\n",
    "df = pd.read_csv('jamb_exam_results.csv')\n",
    "df.columns = df.columns.str.lower().str.replace(' ', '_')\n",
    "\n",
    "# Удаляем ненужный столбец\n",
    "df = df.drop(columns=['student_id'])\n",
    "\n",
    "# Заполняем пропущенные значения нулями\n",
    "df = df.fillna(0)\n",
    "\n",
    "# Разделяем данные на train, validation и test\n",
    "train_data, temp_data = train_test_split(df, test_size=0.4, random_state=1)\n",
    "val_data, test_data = train_test_split(temp_data, test_size=0.5, random_state=1)\n",
    "\n",
    "# Создаем DictVectorizer\n",
    "dv = DictVectorizer(sparse=True)\n",
    "\n",
    "# Преобразуем данные\n",
    "X_train = dv.fit_transform(train_data.drop(columns=['jamb_score']).to_dict(orient='records'))\n",
    "X_val = dv.transform(val_data.drop(columns=['jamb_score']).to_dict(orient='records'))\n",
    "X_test = dv.transform(test_data.drop(columns=['jamb_score']).to_dict(orient='records'))\n",
    "\n",
    "# Целевая переменная\n",
    "y_train = train_data['jamb_score']\n",
    "y_val = val_data['jamb_score']\n",
    "y_test = test_data['jamb_score']"
   ]
  },
  {
   "cell_type": "markdown",
   "id": "dc763435-ad4b-4a00-b00a-a95114b6bb66",
   "metadata": {},
   "source": [
    "### 1.Вопрос 1: DecisionTreeRegressor:"
   ]
  },
  {
   "cell_type": "code",
   "execution_count": 3,
   "id": "d7d7113b-8da3-4ead-86db-82605ef2b7cd",
   "metadata": {},
   "outputs": [
    {
     "name": "stdout",
     "output_type": "stream",
     "text": [
      "Признак для разбиения данных: study_hours_per_week\n"
     ]
    }
   ],
   "source": [
    "dt = DecisionTreeRegressor(max_depth=1, random_state=1)\n",
    "dt.fit(X_train, y_train)\n",
    "\n",
    "# Определяем признак для разбиения\n",
    "feature_index = dt.tree_.feature[0]\n",
    "if feature_index != -2:\n",
    "    feature = dv.feature_names_[feature_index]\n",
    "    print(\"Признак для разбиения данных:\", feature)\n",
    "else:\n",
    "    print(\"Дерево не выполняет разбиение.\")"
   ]
  },
  {
   "cell_type": "markdown",
   "id": "29548ac8-99a0-455d-976a-ed998c400c83",
   "metadata": {},
   "source": [
    "### 2.Вопрос 2: RandomForestRegressor"
   ]
  },
  {
   "cell_type": "code",
   "execution_count": 4,
   "id": "ca96cfd9-469f-4d60-b8f7-c27358620138",
   "metadata": {},
   "outputs": [
    {
     "name": "stdout",
     "output_type": "stream",
     "text": [
      "Вопрос 2: RMSE на валидации: 43.157758977963624\n"
     ]
    }
   ],
   "source": [
    "rf = RandomForestRegressor(n_estimators=10, random_state=1, n_jobs=-1)\n",
    "rf.fit(X_train, y_train)\n",
    "val_pred = rf.predict(X_val)\n",
    "rmse_rf = np.sqrt(mean_squared_error(y_val, val_pred))\n",
    "print(\"Вопрос 2: RMSE на валидации:\", rmse_rf)"
   ]
  },
  {
   "cell_type": "markdown",
   "id": "0f17df9b-ef4d-4a34-9e19-2bf698de4370",
   "metadata": {},
   "source": [
    "### 3.  Вопрос 3: Поиск лучшего n_estimators"
   ]
  },
  {
   "cell_type": "code",
   "execution_count": 5,
   "id": "2f9f54cb-c7c9-47ad-a782-8a4fc405449c",
   "metadata": {},
   "outputs": [
    {
     "name": "stdout",
     "output_type": "stream",
     "text": [
      "n_estimators: 10, RMSE: 43.158\n",
      "n_estimators: 20, RMSE: 41.790\n",
      "n_estimators: 30, RMSE: 41.556\n",
      "n_estimators: 40, RMSE: 41.076\n",
      "n_estimators: 50, RMSE: 40.957\n",
      "n_estimators: 60, RMSE: 40.774\n",
      "n_estimators: 70, RMSE: 40.588\n",
      "n_estimators: 80, RMSE: 40.503\n",
      "n_estimators: 90, RMSE: 40.435\n",
      "n_estimators: 100, RMSE: 40.365\n",
      "n_estimators: 110, RMSE: 40.348\n",
      "n_estimators: 120, RMSE: 40.302\n",
      "n_estimators: 130, RMSE: 40.286\n",
      "n_estimators: 140, RMSE: 40.263\n",
      "n_estimators: 150, RMSE: 40.254\n",
      "n_estimators: 160, RMSE: 40.200\n",
      "n_estimators: 170, RMSE: 40.187\n",
      "n_estimators: 180, RMSE: 40.136\n",
      "n_estimators: 190, RMSE: 40.152\n",
      "n_estimators: 200, RMSE: 40.138\n",
      "\n",
      "Вопрос 3: Лучшее значение n_estimators: 180\n"
     ]
    }
   ],
   "source": [
    "results = []\n",
    "for n in range(10, 201, 10):\n",
    "    rf = RandomForestRegressor(n_estimators=n, random_state=1, n_jobs=-1)\n",
    "    rf.fit(X_train, y_train)\n",
    "    val_pred = rf.predict(X_val)\n",
    "    rmse = np.sqrt(mean_squared_error(y_val, val_pred))\n",
    "    results.append((n, rmse))\n",
    "\n",
    "# Вывод всех результатов для проверки\n",
    "for n, rmse in results:\n",
    "    print(f\"n_estimators: {n}, RMSE: {rmse:.3f}\")\n",
    "\n",
    "# Находим лучшее значение n_estimators\n",
    "min_rmse = min(r[1] for r in results)\n",
    "best_n = next(n for n, rmse in results if abs(rmse - min_rmse) < 1e-3)\n",
    "print(\"\\nВопрос 3: Лучшее значение n_estimators:\", best_n)"
   ]
  },
  {
   "cell_type": "markdown",
   "id": "c49894da-efcd-4a18-ad4e-54b1239139d1",
   "metadata": {},
   "source": [
    "### 4. Вопрос 4: Поиск лучшего max_depth"
   ]
  },
  {
   "cell_type": "code",
   "execution_count": 6,
   "id": "2e81ae67-1136-4e33-8762-3663d6f9db68",
   "metadata": {},
   "outputs": [
    {
     "name": "stdout",
     "output_type": "stream",
     "text": [
      "Вопрос 4: Лучшее значение max_depth: 10\n"
     ]
    }
   ],
   "source": [
    "depths = [10, 15, 20, 25]\n",
    "best_depth = None\n",
    "best_rmse = float('inf')\n",
    "\n",
    "for depth in depths:\n",
    "    avg_rmse = []\n",
    "    for n in range(10, 201, 10):\n",
    "        rf = RandomForestRegressor(max_depth=depth, n_estimators=n, random_state=1, n_jobs=-1)\n",
    "        rf.fit(X_train, y_train)\n",
    "        val_pred = rf.predict(X_val)\n",
    "        rmse = np.sqrt(mean_squared_error(y_val, val_pred))\n",
    "        avg_rmse.append(rmse)\n",
    "    mean_rmse = np.mean(avg_rmse)\n",
    "    if mean_rmse < best_rmse:\n",
    "        best_rmse = mean_rmse\n",
    "        best_depth = depth\n",
    "\n",
    "print(\"Вопрос 4: Лучшее значение max_depth:\", best_depth)"
   ]
  },
  {
   "cell_type": "markdown",
   "id": "52c36c89-0913-4be7-b82d-2303223437be",
   "metadata": {},
   "source": [
    "### 5.  Вопрос 5: Важность признаков"
   ]
  },
  {
   "cell_type": "code",
   "execution_count": 7,
   "id": "1a0eb1da-eda3-478e-bd90-e68689c0ed14",
   "metadata": {},
   "outputs": [
    {
     "name": "stdout",
     "output_type": "stream",
     "text": [
      "Вопрос 5: Самый важный признак: study_hours_per_week\n"
     ]
    }
   ],
   "source": [
    "rf = RandomForestRegressor(n_estimators=10, max_depth=20, random_state=1, n_jobs=-1)\n",
    "rf.fit(X_train, y_train)\n",
    "feature_importances = rf.feature_importances_\n",
    "most_important = dv.feature_names_[np.argmax(feature_importances)]\n",
    "print(\"Вопрос 5: Самый важный признак:\", most_important)"
   ]
  },
  {
   "cell_type": "markdown",
   "id": "d36eeef0-f521-4ccc-bd19-48bfe5627ed6",
   "metadata": {},
   "source": [
    "### 6. Вопрос 6: XGBoost"
   ]
  },
  {
   "cell_type": "code",
   "execution_count": 12,
   "id": "8dcc00d1-502a-45d7-ac73-792727a9fd13",
   "metadata": {},
   "outputs": [
    {
     "name": "stdout",
     "output_type": "stream",
     "text": [
      "[0]\ttrain-rmse:42.84835\teval-rmse:44.52338\n",
      "[1]\ttrain-rmse:39.96423\teval-rmse:42.83406\n",
      "[2]\ttrain-rmse:37.91231\teval-rmse:41.62607\n",
      "[3]\ttrain-rmse:36.51126\teval-rmse:41.25491\n",
      "[4]\ttrain-rmse:35.52212\teval-rmse:40.84075\n",
      "[5]\ttrain-rmse:34.77126\teval-rmse:40.71677\n",
      "[6]\ttrain-rmse:34.03898\teval-rmse:40.72669\n",
      "[7]\ttrain-rmse:33.62820\teval-rmse:40.68822\n",
      "[8]\ttrain-rmse:32.94729\teval-rmse:40.81273\n",
      "[9]\ttrain-rmse:32.27703\teval-rmse:40.84939\n",
      "[10]\ttrain-rmse:31.73818\teval-rmse:40.83759\n",
      "[11]\ttrain-rmse:31.31360\teval-rmse:40.80575\n",
      "[12]\ttrain-rmse:30.72949\teval-rmse:40.84238\n",
      "[13]\ttrain-rmse:30.11486\teval-rmse:40.96020\n",
      "[14]\ttrain-rmse:29.43538\teval-rmse:40.98775\n",
      "[15]\ttrain-rmse:29.23018\teval-rmse:41.04798\n",
      "[16]\ttrain-rmse:28.64113\teval-rmse:41.08375\n",
      "[17]\ttrain-rmse:28.42128\teval-rmse:41.15979\n",
      "[0]\ttrain-rmse:45.64414\teval-rmse:46.63724\n",
      "[1]\ttrain-rmse:44.26862\teval-rmse:45.58724\n",
      "[2]\ttrain-rmse:43.08569\teval-rmse:44.76209\n",
      "[3]\ttrain-rmse:42.05227\teval-rmse:44.02498\n",
      "[4]\ttrain-rmse:41.10533\teval-rmse:43.40640\n",
      "[5]\ttrain-rmse:40.28309\teval-rmse:42.92195\n",
      "[6]\ttrain-rmse:39.54133\teval-rmse:42.49211\n",
      "[7]\ttrain-rmse:38.87686\teval-rmse:42.15780\n",
      "[8]\ttrain-rmse:38.27674\teval-rmse:41.84104\n",
      "[9]\ttrain-rmse:37.74058\teval-rmse:41.58026\n",
      "[10]\ttrain-rmse:37.26338\teval-rmse:41.35829\n",
      "[11]\ttrain-rmse:36.82810\teval-rmse:41.19143\n",
      "[12]\ttrain-rmse:36.41091\teval-rmse:41.02571\n",
      "[13]\ttrain-rmse:36.01019\teval-rmse:40.90308\n",
      "[14]\ttrain-rmse:35.67454\teval-rmse:40.79701\n",
      "[15]\ttrain-rmse:35.33492\teval-rmse:40.66274\n",
      "[16]\ttrain-rmse:35.01425\teval-rmse:40.60840\n",
      "[17]\ttrain-rmse:34.72687\teval-rmse:40.55942\n",
      "[18]\ttrain-rmse:34.40588\teval-rmse:40.46321\n",
      "[19]\ttrain-rmse:34.16207\teval-rmse:40.42760\n",
      "[20]\ttrain-rmse:33.94837\teval-rmse:40.40272\n",
      "[21]\ttrain-rmse:33.67900\teval-rmse:40.33790\n",
      "[22]\ttrain-rmse:33.44365\teval-rmse:40.25893\n",
      "[23]\ttrain-rmse:33.15283\teval-rmse:40.23702\n",
      "[24]\ttrain-rmse:32.93544\teval-rmse:40.23146\n",
      "[25]\ttrain-rmse:32.76647\teval-rmse:40.16645\n",
      "[26]\ttrain-rmse:32.63384\teval-rmse:40.17172\n",
      "[27]\ttrain-rmse:32.48413\teval-rmse:40.20266\n",
      "[28]\ttrain-rmse:32.34090\teval-rmse:40.20407\n",
      "[29]\ttrain-rmse:32.10350\teval-rmse:40.20207\n",
      "[30]\ttrain-rmse:31.97085\teval-rmse:40.20269\n",
      "[31]\ttrain-rmse:31.73414\teval-rmse:40.22897\n",
      "[32]\ttrain-rmse:31.54401\teval-rmse:40.19830\n",
      "[33]\ttrain-rmse:31.36899\teval-rmse:40.20204\n",
      "[34]\ttrain-rmse:31.24775\teval-rmse:40.23194\n",
      "[35]\ttrain-rmse:31.15313\teval-rmse:40.25736\n",
      "Вопрос 6: Лучший eta: 0.1\n"
     ]
    }
   ],
   "source": [
    "dtrain = xgb.DMatrix(X_train, label=y_train)\n",
    "dval = xgb.DMatrix(X_val, label=y_val)\n",
    "\n",
    "xgb_params = {\n",
    "    'eta': 0.3, \n",
    "    'max_depth': 6,\n",
    "    'min_child_weight': 1,\n",
    "    'objective': 'reg:squarederror',\n",
    "    'nthread': 8,\n",
    "    'seed': 1,\n",
    "    'verbosity': 1,\n",
    "}\n",
    "\n",
    "watchlist = [(dtrain, 'train'), (dval, 'eval')]\n",
    "\n",
    "# Модель с eta=0.3\n",
    "model_1 = xgb.train(xgb_params, dtrain, num_boost_round=100, evals=watchlist, early_stopping_rounds=10)\n",
    "\n",
    "# Модель с eta=0.1\n",
    "xgb_params['eta'] = 0.1\n",
    "model_2 = xgb.train(xgb_params, dtrain, num_boost_round=100, evals=watchlist, early_stopping_rounds=10)\n",
    "\n",
    "best_eta = 0.3 if model_1.best_score < model_2.best_score else 0.1\n",
    "print(\"Вопрос 6: Лучший eta:\", best_eta)"
   ]
  }
 ],
 "metadata": {
  "kernelspec": {
   "display_name": "Python 3 (ipykernel)",
   "language": "python",
   "name": "python3"
  },
  "language_info": {
   "codemirror_mode": {
    "name": "ipython",
    "version": 3
   },
   "file_extension": ".py",
   "mimetype": "text/x-python",
   "name": "python",
   "nbconvert_exporter": "python",
   "pygments_lexer": "ipython3",
   "version": "3.12.7"
  }
 },
 "nbformat": 4,
 "nbformat_minor": 5
}
