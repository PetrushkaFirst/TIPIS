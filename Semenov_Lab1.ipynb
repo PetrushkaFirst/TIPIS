{
 "cells": [
  {
   "cell_type": "markdown",
   "id": "c9596acb-c926-4e64-bbb4-9bd7db720e67",
   "metadata": {},
   "source": [
    "## 0. Подключаем pandas и данные для чтения, проверяем что таблица читается"
   ]
  },
  {
   "cell_type": "code",
   "execution_count": 9,
   "id": "8a02c761-680d-4fe4-956d-2350e35a78d9",
   "metadata": {},
   "outputs": [
    {
     "name": "stderr",
     "output_type": "stream",
     "text": [
      "<>:3: SyntaxWarning: invalid escape sequence '\\s'\n",
      "<>:3: SyntaxWarning: invalid escape sequence '\\s'\n",
      "C:\\Users\\semen\\AppData\\Local\\Temp\\ipykernel_1216\\2742395826.py:3: SyntaxWarning: invalid escape sequence '\\s'\n",
      "  df = pd.read_csv('adult.data', header=None, sep=',\\s+', engine='python')\n"
     ]
    },
    {
     "data": {
      "text/html": [
       "<div>\n",
       "<style scoped>\n",
       "    .dataframe tbody tr th:only-of-type {\n",
       "        vertical-align: middle;\n",
       "    }\n",
       "\n",
       "    .dataframe tbody tr th {\n",
       "        vertical-align: top;\n",
       "    }\n",
       "\n",
       "    .dataframe thead th {\n",
       "        text-align: right;\n",
       "    }\n",
       "</style>\n",
       "<table border=\"1\" class=\"dataframe\">\n",
       "  <thead>\n",
       "    <tr style=\"text-align: right;\">\n",
       "      <th></th>\n",
       "      <th>age</th>\n",
       "      <th>workclass</th>\n",
       "      <th>fnlwgt</th>\n",
       "      <th>education</th>\n",
       "      <th>education_num</th>\n",
       "      <th>marital_status</th>\n",
       "      <th>occupation</th>\n",
       "      <th>relationship</th>\n",
       "      <th>race</th>\n",
       "      <th>sex</th>\n",
       "      <th>capital_gain</th>\n",
       "      <th>capital_loss</th>\n",
       "      <th>hours_per_week</th>\n",
       "      <th>native_country</th>\n",
       "      <th>income</th>\n",
       "    </tr>\n",
       "  </thead>\n",
       "  <tbody>\n",
       "    <tr>\n",
       "      <th>0</th>\n",
       "      <td>39</td>\n",
       "      <td>State-gov</td>\n",
       "      <td>77516</td>\n",
       "      <td>Bachelors</td>\n",
       "      <td>13</td>\n",
       "      <td>Never-married</td>\n",
       "      <td>Adm-clerical</td>\n",
       "      <td>Not-in-family</td>\n",
       "      <td>White</td>\n",
       "      <td>Male</td>\n",
       "      <td>2174</td>\n",
       "      <td>0</td>\n",
       "      <td>40</td>\n",
       "      <td>United-States</td>\n",
       "      <td>&lt;=50K</td>\n",
       "    </tr>\n",
       "    <tr>\n",
       "      <th>1</th>\n",
       "      <td>50</td>\n",
       "      <td>Self-emp-not-inc</td>\n",
       "      <td>83311</td>\n",
       "      <td>Bachelors</td>\n",
       "      <td>13</td>\n",
       "      <td>Married-civ-spouse</td>\n",
       "      <td>Exec-managerial</td>\n",
       "      <td>Husband</td>\n",
       "      <td>White</td>\n",
       "      <td>Male</td>\n",
       "      <td>0</td>\n",
       "      <td>0</td>\n",
       "      <td>13</td>\n",
       "      <td>United-States</td>\n",
       "      <td>&lt;=50K</td>\n",
       "    </tr>\n",
       "    <tr>\n",
       "      <th>2</th>\n",
       "      <td>38</td>\n",
       "      <td>Private</td>\n",
       "      <td>215646</td>\n",
       "      <td>HS-grad</td>\n",
       "      <td>9</td>\n",
       "      <td>Divorced</td>\n",
       "      <td>Handlers-cleaners</td>\n",
       "      <td>Not-in-family</td>\n",
       "      <td>White</td>\n",
       "      <td>Male</td>\n",
       "      <td>0</td>\n",
       "      <td>0</td>\n",
       "      <td>40</td>\n",
       "      <td>United-States</td>\n",
       "      <td>&lt;=50K</td>\n",
       "    </tr>\n",
       "    <tr>\n",
       "      <th>3</th>\n",
       "      <td>53</td>\n",
       "      <td>Private</td>\n",
       "      <td>234721</td>\n",
       "      <td>11th</td>\n",
       "      <td>7</td>\n",
       "      <td>Married-civ-spouse</td>\n",
       "      <td>Handlers-cleaners</td>\n",
       "      <td>Husband</td>\n",
       "      <td>Black</td>\n",
       "      <td>Male</td>\n",
       "      <td>0</td>\n",
       "      <td>0</td>\n",
       "      <td>40</td>\n",
       "      <td>United-States</td>\n",
       "      <td>&lt;=50K</td>\n",
       "    </tr>\n",
       "    <tr>\n",
       "      <th>4</th>\n",
       "      <td>28</td>\n",
       "      <td>Private</td>\n",
       "      <td>338409</td>\n",
       "      <td>Bachelors</td>\n",
       "      <td>13</td>\n",
       "      <td>Married-civ-spouse</td>\n",
       "      <td>Prof-specialty</td>\n",
       "      <td>Wife</td>\n",
       "      <td>Black</td>\n",
       "      <td>Female</td>\n",
       "      <td>0</td>\n",
       "      <td>0</td>\n",
       "      <td>40</td>\n",
       "      <td>Cuba</td>\n",
       "      <td>&lt;=50K</td>\n",
       "    </tr>\n",
       "  </tbody>\n",
       "</table>\n",
       "</div>"
      ],
      "text/plain": [
       "   age         workclass  fnlwgt  education  education_num  \\\n",
       "0   39         State-gov   77516  Bachelors             13   \n",
       "1   50  Self-emp-not-inc   83311  Bachelors             13   \n",
       "2   38           Private  215646    HS-grad              9   \n",
       "3   53           Private  234721       11th              7   \n",
       "4   28           Private  338409  Bachelors             13   \n",
       "\n",
       "       marital_status         occupation   relationship   race     sex  \\\n",
       "0       Never-married       Adm-clerical  Not-in-family  White    Male   \n",
       "1  Married-civ-spouse    Exec-managerial        Husband  White    Male   \n",
       "2            Divorced  Handlers-cleaners  Not-in-family  White    Male   \n",
       "3  Married-civ-spouse  Handlers-cleaners        Husband  Black    Male   \n",
       "4  Married-civ-spouse     Prof-specialty           Wife  Black  Female   \n",
       "\n",
       "   capital_gain  capital_loss  hours_per_week native_country income  \n",
       "0          2174             0              40  United-States  <=50K  \n",
       "1             0             0              13  United-States  <=50K  \n",
       "2             0             0              40  United-States  <=50K  \n",
       "3             0             0              40  United-States  <=50K  \n",
       "4             0             0              40           Cuba  <=50K  "
      ]
     },
     "execution_count": 9,
     "metadata": {},
     "output_type": "execute_result"
    }
   ],
   "source": [
    "import pandas as pd\n",
    "pd.set_option('display.max_columns',None)\n",
    "df = pd.read_csv('adult.data', header=None, sep=',\\s+', engine='python')\n",
    "df.columns = ['age', 'workclass', 'fnlwgt', 'education', 'education_num', 'marital_status', \n",
    "           'occupation', 'relationship', 'race', 'sex', 'capital_gain', 'capital_loss', \n",
    "           'hours_per_week', 'native_country', 'income']\n",
    "df.head()"
   ]
  },
  {
   "cell_type": "markdown",
   "id": "ff8a19d6-71ca-4482-83ec-b4182c8b5a6a",
   "metadata": {},
   "source": [
    "## 1. Выводим число столбцов в наборе данных"
   ]
  },
  {
   "cell_type": "code",
   "execution_count": 11,
   "id": "f610698b-fc76-4b68-8089-ced119001d2c",
   "metadata": {},
   "outputs": [
    {
     "name": "stdout",
     "output_type": "stream",
     "text": [
      "Число столбцов в наборе данных: 15\n"
     ]
    }
   ],
   "source": [
    "num_columns = df.shape[1]\n",
    "\n",
    "print(f\"Число столбцов в наборе данных: {num_columns}\")"
   ]
  },
  {
   "cell_type": "markdown",
   "id": "934f2780-a0ac-43fd-9652-4b437424c663",
   "metadata": {},
   "source": [
    "## 2. Узнаем есть ли пропуски в данных? Если есть, то в каких столбцах"
   ]
  },
  {
   "cell_type": "code",
   "execution_count": 14,
   "id": "f8aef65d-60c8-4953-a309-9e785f232c97",
   "metadata": {},
   "outputs": [
    {
     "name": "stdout",
     "output_type": "stream",
     "text": [
      "<class 'pandas.core.frame.DataFrame'>\n",
      "RangeIndex: 32561 entries, 0 to 32560\n",
      "Data columns (total 15 columns):\n",
      " #   Column          Non-Null Count  Dtype \n",
      "---  ------          --------------  ----- \n",
      " 0   age             32561 non-null  int64 \n",
      " 1   workclass       32561 non-null  object\n",
      " 2   fnlwgt          32561 non-null  int64 \n",
      " 3   education       32561 non-null  object\n",
      " 4   education_num   32561 non-null  int64 \n",
      " 5   marital_status  32561 non-null  object\n",
      " 6   occupation      32561 non-null  object\n",
      " 7   relationship    32561 non-null  object\n",
      " 8   race            32561 non-null  object\n",
      " 9   sex             32561 non-null  object\n",
      " 10  capital_gain    32561 non-null  int64 \n",
      " 11  capital_loss    32561 non-null  int64 \n",
      " 12  hours_per_week  32561 non-null  int64 \n",
      " 13  native_country  32561 non-null  object\n",
      " 14  income          32561 non-null  object\n",
      "dtypes: int64(6), object(9)\n",
      "memory usage: 3.7+ MB\n"
     ]
    }
   ],
   "source": [
    "df.info()"
   ]
  },
  {
   "cell_type": "markdown",
   "id": "a4345d6d-5cf1-41d9-8447-edc6527769a6",
   "metadata": {},
   "source": [
    "Пустых значений нет"
   ]
  },
  {
   "cell_type": "markdown",
   "id": "512d6266-314b-4cd5-834a-48d5a6a69de0",
   "metadata": {},
   "source": [
    "## 3. Узнаем кол-во уникальных значений в столбце race"
   ]
  },
  {
   "cell_type": "code",
   "execution_count": 15,
   "id": "fa985b9a-929b-4597-9c3c-e64945439af5",
   "metadata": {},
   "outputs": [
    {
     "name": "stdout",
     "output_type": "stream",
     "text": [
      "Количество уникальных значений в столбце 'race': 5\n"
     ]
    }
   ],
   "source": [
    "unique_races = df['race'].nunique()\n",
    "print(f\"Количество уникальных значений в столбце 'race': {unique_races}\")"
   ]
  },
  {
   "cell_type": "markdown",
   "id": "b487458e-379c-4c64-9405-5ef0c07769d0",
   "metadata": {},
   "source": [
    "## 4. Считаем медиану hours-per-week"
   ]
  },
  {
   "cell_type": "code",
   "execution_count": 16,
   "id": "d3d3f9ed-ee04-4738-a757-0f48547614d8",
   "metadata": {},
   "outputs": [
    {
     "name": "stdout",
     "output_type": "stream",
     "text": [
      "Медиана: 40.0\n"
     ]
    }
   ],
   "source": [
    "median_hpw = df['hours_per_week'].median()\n",
    "print(f\"Медиана: {median_hpw}\")"
   ]
  },
  {
   "cell_type": "markdown",
   "id": "acecda39-bc18-4e6c-a7e5-9d50d0fbcfe8",
   "metadata": {},
   "source": [
    "## 5. Считаем кого больше - женщин или мужчин с ЗП >50K"
   ]
  },
  {
   "cell_type": "code",
   "execution_count": 17,
   "id": "0853d7dd-18df-4c53-b627-06380f804b7d",
   "metadata": {},
   "outputs": [
    {
     "name": "stdout",
     "output_type": "stream",
     "text": [
      "Количество мужчин с доходом >50K: 6662\n",
      "Количество женщин с доходом >50K: 1179\n"
     ]
    }
   ],
   "source": [
    "high_income = df[df['income'] == '>50K']\n",
    "counts = high_income['sex'].value_counts()\n",
    "print(f\"Количество мужчин с доходом >50K: {counts.get('Male', 0)}\")\n",
    "print(f\"Количество женщин с доходом >50K: {counts.get('Female', 0)}\")"
   ]
  },
  {
   "cell_type": "markdown",
   "id": "b6a95ac0-135d-4103-a4d3-053d0fae879e",
   "metadata": {},
   "source": [
    "Количество мужчин с доходом >50K больше"
   ]
  },
  {
   "cell_type": "markdown",
   "id": "c6d70e0a-b2f2-4c18-a2b5-75348136d5a4",
   "metadata": {},
   "source": [
    "## 6. Заполняем пропущенные данные в отдельных столбцах наиболее встречаемыми значениями"
   ]
  },
  {
   "cell_type": "markdown",
   "id": "f6ebfc9e-57f7-4d7f-a9ee-67d0f76a7932",
   "metadata": {},
   "source": [
    "most_frequent= df[column].mode()[0]  - ищем самый распространенный элемент\n",
    "df[column] = df[column].fillna(most_frequent_value)  - заменяем пустые значения в столбце на самое частое значение"
   ]
  },
  {
   "cell_type": "code",
   "execution_count": 20,
   "id": "a5ed8cb7-de8b-41fa-b3fe-192d0d04e720",
   "metadata": {},
   "outputs": [
    {
     "name": "stdout",
     "output_type": "stream",
     "text": [
      "age               0\n",
      "workclass         0\n",
      "fnlwgt            0\n",
      "education         0\n",
      "education_num     0\n",
      "marital_status    0\n",
      "occupation        0\n",
      "relationship      0\n",
      "race              0\n",
      "sex               0\n",
      "capital_gain      0\n",
      "capital_loss      0\n",
      "hours_per_week    0\n",
      "native_country    0\n",
      "income            0\n",
      "dtype: int64\n"
     ]
    },
    {
     "name": "stderr",
     "output_type": "stream",
     "text": [
      "C:\\Users\\semen\\AppData\\Local\\Temp\\ipykernel_1216\\2863662106.py:3: FutureWarning: A value is trying to be set on a copy of a DataFrame or Series through chained assignment using an inplace method.\n",
      "The behavior will change in pandas 3.0. This inplace method will never work because the intermediate object on which we are setting values always behaves as a copy.\n",
      "\n",
      "For example, when doing 'df[col].method(value, inplace=True)', try using 'df.method({col: value}, inplace=True)' or df[col] = df[col].method(value) instead, to perform the operation inplace on the original object.\n",
      "\n",
      "\n",
      "  df[column].fillna(most_frequent_value, inplace=True)  # Заполняем пропуски\n",
      "C:\\Users\\semen\\AppData\\Local\\Temp\\ipykernel_1216\\2863662106.py:3: FutureWarning: A value is trying to be set on a copy of a DataFrame or Series through chained assignment using an inplace method.\n",
      "The behavior will change in pandas 3.0. This inplace method will never work because the intermediate object on which we are setting values always behaves as a copy.\n",
      "\n",
      "For example, when doing 'df[col].method(value, inplace=True)', try using 'df.method({col: value}, inplace=True)' or df[col] = df[col].method(value) instead, to perform the operation inplace on the original object.\n",
      "\n",
      "\n",
      "  df[column].fillna(most_frequent_value, inplace=True)  # Заполняем пропуски\n",
      "C:\\Users\\semen\\AppData\\Local\\Temp\\ipykernel_1216\\2863662106.py:3: FutureWarning: A value is trying to be set on a copy of a DataFrame or Series through chained assignment using an inplace method.\n",
      "The behavior will change in pandas 3.0. This inplace method will never work because the intermediate object on which we are setting values always behaves as a copy.\n",
      "\n",
      "For example, when doing 'df[col].method(value, inplace=True)', try using 'df.method({col: value}, inplace=True)' or df[col] = df[col].method(value) instead, to perform the operation inplace on the original object.\n",
      "\n",
      "\n",
      "  df[column].fillna(most_frequent_value, inplace=True)  # Заполняем пропуски\n",
      "C:\\Users\\semen\\AppData\\Local\\Temp\\ipykernel_1216\\2863662106.py:3: FutureWarning: A value is trying to be set on a copy of a DataFrame or Series through chained assignment using an inplace method.\n",
      "The behavior will change in pandas 3.0. This inplace method will never work because the intermediate object on which we are setting values always behaves as a copy.\n",
      "\n",
      "For example, when doing 'df[col].method(value, inplace=True)', try using 'df.method({col: value}, inplace=True)' or df[col] = df[col].method(value) instead, to perform the operation inplace on the original object.\n",
      "\n",
      "\n",
      "  df[column].fillna(most_frequent_value, inplace=True)  # Заполняем пропуски\n",
      "C:\\Users\\semen\\AppData\\Local\\Temp\\ipykernel_1216\\2863662106.py:3: FutureWarning: A value is trying to be set on a copy of a DataFrame or Series through chained assignment using an inplace method.\n",
      "The behavior will change in pandas 3.0. This inplace method will never work because the intermediate object on which we are setting values always behaves as a copy.\n",
      "\n",
      "For example, when doing 'df[col].method(value, inplace=True)', try using 'df.method({col: value}, inplace=True)' or df[col] = df[col].method(value) instead, to perform the operation inplace on the original object.\n",
      "\n",
      "\n",
      "  df[column].fillna(most_frequent_value, inplace=True)  # Заполняем пропуски\n",
      "C:\\Users\\semen\\AppData\\Local\\Temp\\ipykernel_1216\\2863662106.py:3: FutureWarning: A value is trying to be set on a copy of a DataFrame or Series through chained assignment using an inplace method.\n",
      "The behavior will change in pandas 3.0. This inplace method will never work because the intermediate object on which we are setting values always behaves as a copy.\n",
      "\n",
      "For example, when doing 'df[col].method(value, inplace=True)', try using 'df.method({col: value}, inplace=True)' or df[col] = df[col].method(value) instead, to perform the operation inplace on the original object.\n",
      "\n",
      "\n",
      "  df[column].fillna(most_frequent_value, inplace=True)  # Заполняем пропуски\n"
     ]
    }
   ],
   "source": [
    "for column in df.columns:\n",
    "    most_frequent= df[column].mode()[0]  \n",
    "    df[column] = df[column].fillna(most_frequent_value)  "
   ]
  }
 ],
 "metadata": {
  "kernelspec": {
   "display_name": "Python 3 (ipykernel)",
   "language": "python",
   "name": "python3"
  },
  "language_info": {
   "codemirror_mode": {
    "name": "ipython",
    "version": 3
   },
   "file_extension": ".py",
   "mimetype": "text/x-python",
   "name": "python",
   "nbconvert_exporter": "python",
   "pygments_lexer": "ipython3",
   "version": "3.12.6"
  }
 },
 "nbformat": 4,
 "nbformat_minor": 5
}
